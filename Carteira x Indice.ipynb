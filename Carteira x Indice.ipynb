{
 "cells": [
  {
   "cell_type": "markdown",
   "id": "d6645f5f",
   "metadata": {},
   "source": [
    "#### Importando as bibliotecas"
   ]
  },
  {
   "cell_type": "code",
   "execution_count": 22,
   "id": "06f02d0a",
   "metadata": {},
   "outputs": [],
   "source": [
    "import pandas as pd\n",
    "import matplotlib.pyplot as plt \n",
    "import matplotlib.ticker as mtick\n",
    "import yfinance as yf\n",
    "import numpy as np"
   ]
  },
  {
   "cell_type": "markdown",
   "id": "90e620f6",
   "metadata": {},
   "source": [
    "#### Definindo as Datas"
   ]
  },
  {
   "cell_type": "code",
   "execution_count": 23,
   "id": "29e67e52",
   "metadata": {},
   "outputs": [],
   "source": [
    "data_inicio= \"2024-09-01\"\n",
    "data_final = \"2025-02-01\""
   ]
  },
  {
   "cell_type": "markdown",
   "id": "ae634e4e",
   "metadata": {},
   "source": [
    "#### Escolhendo os Criptoativos e baixando seus dados"
   ]
  },
  {
   "cell_type": "code",
   "execution_count": 24,
   "id": "b12e1f01",
   "metadata": {},
   "outputs": [
    {
     "name": "stderr",
     "output_type": "stream",
     "text": [
      "[*********************100%***********************]  5 of 5 completed\n"
     ]
    }
   ],
   "source": [
    "ativos_cripto = [\"BTC-USD\",\"ETH-USD\",\"LTC-USD\",\"XRP-USD\",\"BNB-USD\"]\n",
    "\n",
    "#Nota-se que coloquei somente a coluna de \"Fechamneto ajustado\"\n",
    "cripto = yf.download(tickers=ativos_cripto,start=data_inicio,end=data_final)[\"Adj Close\"]\n",
    "\n",
    "#Coloque a coluna de data como index\n",
    "cripto.index = cripto.index.date"
   ]
  },
  {
   "cell_type": "markdown",
   "id": "0d5eacb3",
   "metadata": {},
   "source": [
    "#### Calculando retornos diários"
   ]
  },
  {
   "cell_type": "code",
   "execution_count": 25,
   "id": "fc7f7539",
   "metadata": {},
   "outputs": [
    {
     "data": {
      "text/html": [
       "<div>\n",
       "<style scoped>\n",
       "    .dataframe tbody tr th:only-of-type {\n",
       "        vertical-align: middle;\n",
       "    }\n",
       "\n",
       "    .dataframe tbody tr th {\n",
       "        vertical-align: top;\n",
       "    }\n",
       "\n",
       "    .dataframe thead th {\n",
       "        text-align: right;\n",
       "    }\n",
       "</style>\n",
       "<table border=\"1\" class=\"dataframe\">\n",
       "  <thead>\n",
       "    <tr style=\"text-align: right;\">\n",
       "      <th>Ticker</th>\n",
       "      <th>BNB-USD</th>\n",
       "      <th>BTC-USD</th>\n",
       "      <th>ETH-USD</th>\n",
       "      <th>LTC-USD</th>\n",
       "      <th>XRP-USD</th>\n",
       "    </tr>\n",
       "  </thead>\n",
       "  <tbody>\n",
       "    <tr>\n",
       "      <th>2024-09-02</th>\n",
       "      <td>2.700670</td>\n",
       "      <td>3.117273</td>\n",
       "      <td>4.542395</td>\n",
       "      <td>2.806171</td>\n",
       "      <td>3.576159</td>\n",
       "    </tr>\n",
       "    <tr>\n",
       "      <th>2024-09-03</th>\n",
       "      <td>-1.475913</td>\n",
       "      <td>-2.844504</td>\n",
       "      <td>-4.632578</td>\n",
       "      <td>-1.357133</td>\n",
       "      <td>-1.796382</td>\n",
       "    </tr>\n",
       "    <tr>\n",
       "      <th>2024-09-04</th>\n",
       "      <td>-2.091594</td>\n",
       "      <td>0.941156</td>\n",
       "      <td>1.172158</td>\n",
       "      <td>1.559508</td>\n",
       "      <td>0.140833</td>\n",
       "    </tr>\n",
       "    <tr>\n",
       "      <th>2024-09-05</th>\n",
       "      <td>-1.132512</td>\n",
       "      <td>-3.124034</td>\n",
       "      <td>-3.317283</td>\n",
       "      <td>1.001470</td>\n",
       "      <td>-2.504581</td>\n",
       "    </tr>\n",
       "    <tr>\n",
       "      <th>2024-09-06</th>\n",
       "      <td>-3.020823</td>\n",
       "      <td>-3.938239</td>\n",
       "      <td>-6.075888</td>\n",
       "      <td>-4.661704</td>\n",
       "      <td>-4.198675</td>\n",
       "    </tr>\n",
       "    <tr>\n",
       "      <th>...</th>\n",
       "      <td>...</td>\n",
       "      <td>...</td>\n",
       "      <td>...</td>\n",
       "      <td>...</td>\n",
       "      <td>...</td>\n",
       "    </tr>\n",
       "    <tr>\n",
       "      <th>2025-01-27</th>\n",
       "      <td>1.954146</td>\n",
       "      <td>-0.579273</td>\n",
       "      <td>-1.767970</td>\n",
       "      <td>-1.969093</td>\n",
       "      <td>0.890780</td>\n",
       "    </tr>\n",
       "    <tr>\n",
       "      <th>2025-01-28</th>\n",
       "      <td>-2.702112</td>\n",
       "      <td>-0.739767</td>\n",
       "      <td>-3.202592</td>\n",
       "      <td>-4.071998</td>\n",
       "      <td>0.259894</td>\n",
       "    </tr>\n",
       "    <tr>\n",
       "      <th>2025-01-29</th>\n",
       "      <td>0.946619</td>\n",
       "      <td>2.339560</td>\n",
       "      <td>1.166239</td>\n",
       "      <td>4.963078</td>\n",
       "      <td>0.234359</td>\n",
       "    </tr>\n",
       "    <tr>\n",
       "      <th>2025-01-30</th>\n",
       "      <td>1.477920</td>\n",
       "      <td>0.995238</td>\n",
       "      <td>4.329619</td>\n",
       "      <td>12.292568</td>\n",
       "      <td>2.045922</td>\n",
       "    </tr>\n",
       "    <tr>\n",
       "      <th>2025-01-31</th>\n",
       "      <td>-0.026304</td>\n",
       "      <td>-2.224924</td>\n",
       "      <td>1.554450</td>\n",
       "      <td>-1.461565</td>\n",
       "      <td>-3.054835</td>\n",
       "    </tr>\n",
       "  </tbody>\n",
       "</table>\n",
       "<p>152 rows × 5 columns</p>\n",
       "</div>"
      ],
      "text/plain": [
       "Ticker       BNB-USD   BTC-USD   ETH-USD    LTC-USD   XRP-USD\n",
       "2024-09-02  2.700670  3.117273  4.542395   2.806171  3.576159\n",
       "2024-09-03 -1.475913 -2.844504 -4.632578  -1.357133 -1.796382\n",
       "2024-09-04 -2.091594  0.941156  1.172158   1.559508  0.140833\n",
       "2024-09-05 -1.132512 -3.124034 -3.317283   1.001470 -2.504581\n",
       "2024-09-06 -3.020823 -3.938239 -6.075888  -4.661704 -4.198675\n",
       "...              ...       ...       ...        ...       ...\n",
       "2025-01-27  1.954146 -0.579273 -1.767970  -1.969093  0.890780\n",
       "2025-01-28 -2.702112 -0.739767 -3.202592  -4.071998  0.259894\n",
       "2025-01-29  0.946619  2.339560  1.166239   4.963078  0.234359\n",
       "2025-01-30  1.477920  0.995238  4.329619  12.292568  2.045922\n",
       "2025-01-31 -0.026304 -2.224924  1.554450  -1.461565 -3.054835\n",
       "\n",
       "[152 rows x 5 columns]"
      ]
     },
     "execution_count": 25,
     "metadata": {},
     "output_type": "execute_result"
    }
   ],
   "source": [
    "#Utilizando a função pct_change() , na qual calcula a variação percentual diária e o dropna() para tirar o dados faltantes\n",
    "#Como pega o dia anterior como parâmetro sempre a 1° linha fica com \"Dados Flatantes\"\n",
    "retorno_cripto = cripto.pct_change().dropna()*100\n",
    "\n",
    "#Colocando o index no formato de DateTime\n",
    "retorno_cripto.index = pd.to_datetime(retorno_cripto.index)\n",
    "retorno_cripto"
   ]
  },
  {
   "cell_type": "markdown",
   "id": "adcf4fd5",
   "metadata": {},
   "source": [
    "#### Adotando pesos para os criptoativos"
   ]
  },
  {
   "cell_type": "code",
   "execution_count": 26,
   "id": "b7d70003",
   "metadata": {},
   "outputs": [],
   "source": [
    "pesos = pd.Series([0.1, 0.4, 0.3, 0.1, 0.1], index=retorno_cripto.columns)"
   ]
  },
  {
   "cell_type": "markdown",
   "id": "ba351e90",
   "metadata": {},
   "source": [
    "#### Calculando o retorno da Carteira"
   ]
  },
  {
   "cell_type": "code",
   "execution_count": 27,
   "id": "37b7f6c0",
   "metadata": {},
   "outputs": [
    {
     "data": {
      "text/plain": [
       "2024-09-02    3.517928\n",
       "2024-09-03   -2.990518\n",
       "2024-09-04    0.688985\n",
       "2024-09-05   -2.508361\n",
       "2024-09-06   -4.586182\n",
       "                ...   \n",
       "2025-01-27   -0.674517\n",
       "2025-01-28   -1.908106\n",
       "2025-01-29    1.900101\n",
       "2025-01-30    3.278622\n",
       "2025-01-31   -0.877905\n",
       "Name: Retorno, Length: 152, dtype: float64"
      ]
     },
     "execution_count": 27,
     "metadata": {},
     "output_type": "execute_result"
    }
   ],
   "source": [
    "#Criamos uma coluna nova e fizemos a multiplicação escalar dos pesos x Retornos\n",
    "retorno_cripto[\"Retorno\"] = retorno_cripto.dot(pesos)\n",
    "retorno_cripto[\"Retorno\"]\n"
   ]
  },
  {
   "cell_type": "markdown",
   "id": "8e504f57",
   "metadata": {},
   "source": [
    "#### Calculando o retorno acumulado"
   ]
  },
  {
   "cell_type": "code",
   "execution_count": 28,
   "id": "a08441da",
   "metadata": {},
   "outputs": [],
   "source": [
    "retorno_acumulado = (1 + retorno_cripto[\"Retorno\"]/100).cumprod()"
   ]
  },
  {
   "cell_type": "markdown",
   "id": "cdb645a6",
   "metadata": {},
   "source": [
    "#### Lendo dados de um arquivo local no computador"
   ]
  },
  {
   "cell_type": "code",
   "execution_count": 29,
   "id": "10c19150",
   "metadata": {},
   "outputs": [],
   "source": [
    "dados = rlocal do arquivo\""
   ]
  },
  {
   "cell_type": "markdown",
   "id": "71426085",
   "metadata": {},
   "source": [
    "#### Extraindo os dados do Arquivo e manipulando-os para melhor manipulação\n",
    "Como não consguimos extrair os dados da biblioteca Yfinance baixamos o arquivo CSV do Índice Nasdaq Crypto Index\n",
    "do site https://br.investing.com/"
   ]
  },
  {
   "cell_type": "code",
   "execution_count": 30,
   "id": "29cf4041",
   "metadata": {},
   "outputs": [
    {
     "data": {
      "text/html": [
       "<div>\n",
       "<style scoped>\n",
       "    .dataframe tbody tr th:only-of-type {\n",
       "        vertical-align: middle;\n",
       "    }\n",
       "\n",
       "    .dataframe tbody tr th {\n",
       "        vertical-align: top;\n",
       "    }\n",
       "\n",
       "    .dataframe thead th {\n",
       "        text-align: right;\n",
       "    }\n",
       "</style>\n",
       "<table border=\"1\" class=\"dataframe\">\n",
       "  <thead>\n",
       "    <tr style=\"text-align: right;\">\n",
       "      <th></th>\n",
       "      <th>Fechamento</th>\n",
       "    </tr>\n",
       "    <tr>\n",
       "      <th>Data</th>\n",
       "      <th></th>\n",
       "    </tr>\n",
       "  </thead>\n",
       "  <tbody>\n",
       "    <tr>\n",
       "      <th>2024-09-03</th>\n",
       "      <td>2.979,4</td>\n",
       "    </tr>\n",
       "    <tr>\n",
       "      <th>2024-09-04</th>\n",
       "      <td>2.981,4</td>\n",
       "    </tr>\n",
       "    <tr>\n",
       "      <th>2024-09-05</th>\n",
       "      <td>2.881,4</td>\n",
       "    </tr>\n",
       "    <tr>\n",
       "      <th>2024-09-06</th>\n",
       "      <td>2.741,6</td>\n",
       "    </tr>\n",
       "    <tr>\n",
       "      <th>2024-09-09</th>\n",
       "      <td>2.940,0</td>\n",
       "    </tr>\n",
       "    <tr>\n",
       "      <th>...</th>\n",
       "      <td>...</td>\n",
       "    </tr>\n",
       "    <tr>\n",
       "      <th>2025-01-27</th>\n",
       "      <td>5.276,8</td>\n",
       "    </tr>\n",
       "    <tr>\n",
       "      <th>2025-01-28</th>\n",
       "      <td>5.194,2</td>\n",
       "    </tr>\n",
       "    <tr>\n",
       "      <th>2025-01-29</th>\n",
       "      <td>5.335,6</td>\n",
       "    </tr>\n",
       "    <tr>\n",
       "      <th>2025-01-30</th>\n",
       "      <td>5.443,8</td>\n",
       "    </tr>\n",
       "    <tr>\n",
       "      <th>2025-01-31</th>\n",
       "      <td>5.316,2</td>\n",
       "    </tr>\n",
       "  </tbody>\n",
       "</table>\n",
       "<p>105 rows × 1 columns</p>\n",
       "</div>"
      ],
      "text/plain": [
       "           Fechamento\n",
       "Data                 \n",
       "2024-09-03    2.979,4\n",
       "2024-09-04    2.981,4\n",
       "2024-09-05    2.881,4\n",
       "2024-09-06    2.741,6\n",
       "2024-09-09    2.940,0\n",
       "...               ...\n",
       "2025-01-27    5.276,8\n",
       "2025-01-28    5.194,2\n",
       "2025-01-29    5.335,6\n",
       "2025-01-30    5.443,8\n",
       "2025-01-31    5.316,2\n",
       "\n",
       "[105 rows x 1 columns]"
      ]
     },
     "execution_count": 30,
     "metadata": {},
     "output_type": "execute_result"
    }
   ],
   "source": [
    "#Lendo o arquivo CSV\n",
    "nasdaq_crypto_index = pd.read_csv(dados)\n",
    "\n",
    "#Filtrando as colunas \n",
    "nasdaq_crypto_index = nasdaq_crypto_index[[\"Data\",\"Último\"]]\n",
    "\n",
    "#Mudando o nome das colunas\n",
    "nasdaq_crypto_index.rename(columns={\"Último\": \"Fechamento\"}, inplace=True)\n",
    "\n",
    "#Colocando a Coluna DATA no formato de DateTime\n",
    "nasdaq_crypto_index[\"Data\"] = pd.to_datetime(nasdaq_crypto_index[\"Data\"], dayfirst=True, errors=\"coerce\")\n",
    "\n",
    "#Colocando a coluna DATA como INDEX\n",
    "nasdaq_crypto_index.set_index(\"Data\", inplace=True)\n",
    "\n",
    "#Ordenando para uma ordem crescente\n",
    "nasdaq_crypto_index.sort_index(ascending=True, inplace=True)\n",
    "nasdaq_crypto_index"
   ]
  },
  {
   "cell_type": "markdown",
   "id": "42911d1d",
   "metadata": {},
   "source": [
    "#### Removendo alguns parâmetros"
   ]
  },
  {
   "cell_type": "code",
   "execution_count": 31,
   "id": "05d04fd4",
   "metadata": {},
   "outputs": [],
   "source": [
    "# Neste ponto os valores estão neste formato(5.316,2) e prcisamos colocar neste → (5316,2)\n",
    "nasdaq_crypto_index[\"Fechamento\"] = (\n",
    "    nasdaq_crypto_index[\"Fechamento\"]\n",
    "    .str.replace('.', '', regex=False)    # Remove pontos (ex: 5.316,2 → 5316,2)\n",
    "    .str.replace(',', '.', regex=False)   # Substitui vírgula por ponto (ex: 5316,2 → 5316.2)\n",
    "    .astype(float)                        # Converte para float\n",
    ")"
   ]
  },
  {
   "cell_type": "markdown",
   "id": "ba5217d5",
   "metadata": {},
   "source": [
    "#### Calculando o Retorno DIÁRIO e o ACUMULADO do índice "
   ]
  },
  {
   "cell_type": "code",
   "execution_count": 32,
   "id": "e1fc8286",
   "metadata": {},
   "outputs": [
    {
     "data": {
      "text/plain": [
       "Data\n",
       "2024-09-04    1.000671\n",
       "2024-09-05    0.967107\n",
       "2024-09-06    0.920185\n",
       "2024-09-09    0.986776\n",
       "2024-09-10    0.990233\n",
       "                ...   \n",
       "2025-01-27    1.771095\n",
       "2025-01-28    1.743371\n",
       "2025-01-29    1.790830\n",
       "2025-01-30    1.827146\n",
       "2025-01-31    1.784319\n",
       "Name: Fechamento, Length: 104, dtype: float64"
      ]
     },
     "execution_count": 32,
     "metadata": {},
     "output_type": "execute_result"
    }
   ],
   "source": [
    "nasdaq_crypto_retorno = nasdaq_crypto_index[\"Fechamento\"].pct_change().dropna()*100\n",
    "retorno_acumulado_nasdaq = (1 + nasdaq_crypto_retorno / 100).cumprod()\n",
    "retorno_acumulado_nasdaq"
   ]
  },
  {
   "cell_type": "code",
   "execution_count": null,
   "id": "f0e0c79b",
   "metadata": {},
   "outputs": [],
   "source": []
  },
  {
   "cell_type": "markdown",
   "id": "acfa2944",
   "metadata": {},
   "source": [
    "#### Vamos ajustar os dados para que o gráfico comece em 0%, facilitando a visualização dos ganhos acima de 0 e das perdas abaixo."
   ]
  },
  {
   "cell_type": "code",
   "execution_count": 33,
   "id": "40256fbb",
   "metadata": {},
   "outputs": [],
   "source": [
    "retorno_acumulado = (retorno_acumulado - 1) * 100\n",
    "retorno_acumulado_nasdaq = (retorno_acumulado_nasdaq - 1) * 100"
   ]
  },
  {
   "cell_type": "markdown",
   "id": "36accdb5",
   "metadata": {},
   "source": [
    "#### Rentebilidade final "
   ]
  },
  {
   "cell_type": "code",
   "execution_count": 34,
   "id": "07b1baf4",
   "metadata": {},
   "outputs": [],
   "source": [
    "rentabilidade_carteira = retorno_acumulado[-1]  # Já está em percentual\n",
    "rentabilidade_nasdaq = retorno_acumulado_nasdaq[-1]  # Já está em percentual\n"
   ]
  },
  {
   "cell_type": "markdown",
   "id": "cdc06da5",
   "metadata": {},
   "source": [
    "#### Plotando o Gráfico"
   ]
  },
  {
   "cell_type": "code",
   "execution_count": 35,
   "id": "99a54ee4",
   "metadata": {},
   "outputs": [
    {
     "data": {
      "image/png": "[encoded data removed]",
      "text/plain": [
       "<Figure size 1200x600 with 1 Axes>"
      ]
     },
     "metadata": {},
     "output_type": "display_data"
    }
   ],
   "source": [
    "#Ajusta tamanho \n",
    "plt.figure(figsize=(12,6))\n",
    "#fazendo o primeiro gráfico de linha\n",
    "plt.plot(retorno_acumulado, label=\"Carteira Fictícia\")\n",
    "#fazendo o segundo gráfico de linha\n",
    "plt.plot(retorno_acumulado_nasdaq, label=\"Nasdaq Crypto Index\")\n",
    "#Colocando um Titulo\n",
    "plt.title(\"Retorno Acumulado Comparativo\")\n",
    "#Colocando subtitulo no eixo y\n",
    "plt.ylabel(\"Retorno Acumulado\")\n",
    "#Colocando uma linha \"tracejada\" no eixo X\n",
    "plt.axhline(0, linestyle=\"--\",color='black')\n",
    "#Colocando subtitulo no eixo x\n",
    "plt.xlabel(\"Data\")\n",
    "#Adicionando Legenda\n",
    "plt.legend()\n",
    "#Colocando a legenda \"De lado\" no angulo de 45°\n",
    "plt.xticks(rotation=45)\n",
    "#Colocando os valores do eixo y em %\n",
    "plt.gca().yaxis.set_major_formatter(mtick.PercentFormatter())\n",
    "#Colocando uma grade\n",
    "plt.grid()"
   ]
  },
  {
   "cell_type": "code",
   "execution_count": 38,
   "id": "75b37b3f",
   "metadata": {},
   "outputs": [
    {
     "name": "stdout",
     "output_type": "stream",
     "text": [
      "Digite o valor inicial do seu investimento: R$ 100\n",
      "\n",
      "A Carteira Fictícia fechou o período com uma rentabilidade acumulada de 87.21% vs. 78.43% do Nasdaq Crypto Index.\n",
      "\n",
      "Se você tivesse investido R$100.00 na carteira fictícia, teria R$187.21 no final do período.\n",
      "Se tivesse investido no Nasdaq Crypto Index, teria R$178.43.\n",
      "\n"
     ]
    }
   ],
   "source": [
    "investimento_inicial = float(input(\"Digite o valor inicial do seu investimento: R$ \"))\n",
    "saldo_final_carteira = investimento_inicial * (1 + rentabilidade_carteira / 100)\n",
    "saldo_final_nasdaq = investimento_inicial * (1 + rentabilidade_nasdaq / 100)\n",
    "\n",
    "texto = \"\"\"\n",
    "A Carteira Fictícia fechou o período com uma rentabilidade acumulada de {:.2f}% vs. {:.2f}% do Nasdaq Crypto Index.\n",
    "\n",
    "Se você tivesse investido R${:.2f} na carteira fictícia, teria R${:.2f} no final do período.\n",
    "Se tivesse investido no Nasdaq Crypto Index, teria R${:.2f}.\n",
    "\"\"\".format(rentabilidade_carteira, rentabilidade_nasdaq, investimento_inicial, saldo_final_carteira, saldo_final_nasdaq)\n",
    "\n",
    "print(texto)\n"
   ]
  },
  {
   "cell_type": "code",
   "execution_count": null,
   "id": "accd5b06",
   "metadata": {},
   "outputs": [],
   "source": []
  }
 ],
 "metadata": {
  "kernelspec": {
   "display_name": "Python 3 (ipykernel)",
   "language": "python",
   "name": "python3"
  },
  "language_info": {
   "codemirror_mode": {
    "name": "ipython",
    "version": 3
   },
   "file_extension": ".py",
   "mimetype": "text/x-python",
   "name": "python",
   "nbconvert_exporter": "python",
   "pygments_lexer": "ipython3",
   "version": "3.11.5"
  }
 },
 "nbformat": 4,
 "nbformat_minor": 5
}
